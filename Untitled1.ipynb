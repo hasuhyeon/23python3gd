{
  "nbformat": 4,
  "nbformat_minor": 0,
  "metadata": {
    "colab": {
      "provenance": [],
      "authorship_tag": "ABX9TyPNK7EcoCBNFlMG7jjVLk7x",
      "include_colab_link": true
    },
    "kernelspec": {
      "name": "python3",
      "display_name": "Python 3"
    },
    "language_info": {
      "name": "python"
    }
  },
  "cells": [
    {
      "cell_type": "markdown",
      "metadata": {
        "id": "view-in-github",
        "colab_type": "text"
      },
      "source": [
        "<a href=\"https://colab.research.google.com/github/hasuhyeon/23python3gd/blob/main/Untitled1.ipynb\" target=\"_parent\"><img src=\"https://colab.research.google.com/assets/colab-badge.svg\" alt=\"Open In Colab\"/></a>"
      ]
    },
    {
      "cell_type": "markdown",
      "source": [
        "사용자로부터 2개의 정수를 받아서 합계를 출력하시오.\n",
        " - 정수x\n",
        " - 정수y"
      ],
      "metadata": {
        "id": "egWPTSEabLPc"
      }
    },
    {
      "cell_type": "code",
      "source": [
        "print(\" 정수 2개를 입력하시오. : \")\n",
        "x = int(input(\"x의 값을 입력하시오.: \"))\n",
        "y = int(input(\"y의 값을 입력하시오.: \"))\n",
        "sum = x+y                                                                        # 입력 받은 두 정수의 합  계산\n",
        "print(sum)                                                                       # 합 출력\n",
        "print(f'{x} + {y} 의 값은 (sum)이댜.')                                           # 합을 템플릿 문자열을 사용하여 출력"
      ],
      "metadata": {
        "colab": {
          "base_uri": "https://localhost:8080/"
        },
        "id": "cYVcowGyb5JE",
        "outputId": "3f7522a3-a48a-4e17-8dc7-153fbf0ed2d4"
      },
      "execution_count": null,
      "outputs": [
        {
          "output_type": "stream",
          "name": "stdout",
          "text": [
            " 정수 2개를 입력하시오. : \n",
            "x의 값을 입력하시오.: 5\n",
            "y의 값을 입력하시오.: 6\n",
            "11\n",
            "5 + 6 의 값은 (sum)이댜.\n"
          ]
        }
      ]
    },
    {
      "cell_type": "markdown",
      "source": [
        "5. 부가세를 계산하시오\n",
        " - 상품의 가격 (price)\n",
        " - 부가세(vat)"
      ],
      "metadata": {
        "id": "v0nk3SW-dp_g"
      }
    },
    {
      "cell_type": "code",
      "source": [
        "print(\"상품의 가격을 입력하시오.: \")\n",
        "price = int(input(\"상품의 가격: \"))\n",
        "vat = price * 0.1                                                                # 부가세 계산\n",
        "print(vat)                                                                       # 부가세 출력\n",
        "print(f'상품의 가격은 {price}이며, 부가세는 {vat}이다.')                         # 상품 가격과 부가세를 템플릿 문자열을 사용하여 출력"
      ],
      "metadata": {
        "colab": {
          "base_uri": "https://localhost:8080/"
        },
        "id": "YomSflxsd88Q",
        "outputId": "21c5ae39-9cdc-4750-dfdb-81a8b83ee57b"
      },
      "execution_count": null,
      "outputs": [
        {
          "output_type": "stream",
          "name": "stdout",
          "text": [
            "상품의 가격을 입력하시오.: \n",
            "상품의 가격: 5000\n",
            "500.0\n",
            "상품의 가격은 5000이며, 부가세는 500.0이다.\n"
          ]
        }
      ]
    }
  ]
}