{
  "nbformat": 4,
  "nbformat_minor": 0,
  "metadata": {
    "colab": {
      "provenance": [],
      "authorship_tag": "ABX9TyO1REFWbiuztqbjpydOuIto",
      "include_colab_link": true
    },
    "kernelspec": {
      "name": "python3",
      "display_name": "Python 3"
    },
    "language_info": {
      "name": "python"
    }
  },
  "cells": [
    {
      "cell_type": "markdown",
      "metadata": {
        "id": "view-in-github",
        "colab_type": "text"
      },
      "source": [
        "<a href=\"https://colab.research.google.com/github/hasuhyeon/23python3gd/blob/main/Untitled8.ipynb\" target=\"_parent\"><img src=\"https://colab.research.google.com/assets/colab-badge.svg\" alt=\"Open In Colab\"/></a>"
      ]
    },
    {
      "cell_type": "markdown",
      "source": [
        "사용자로부터 2개의 정수를 받아서 합계로 출력"
      ],
      "metadata": {
        "id": "gdK_Cm8NupkC"
      }
    },
    {
      "cell_type": "code",
      "execution_count": null,
      "metadata": {
        "colab": {
          "base_uri": "https://localhost:8080/"
        },
        "id": "ujMbzpJ1uljl",
        "outputId": "71466f22-84cc-4a27-92ad-c3f9ec2b9e0d"
      },
      "outputs": [
        {
          "output_type": "stream",
          "name": "stdout",
          "text": [
            "정수 2개를 입력하시오 : \n",
            "x값을 입력하시오. : 2\n",
            "y값을 입력 하시오. : 4\n",
            "6\n",
            "2 + 4의 값은 6이다.\n"
          ]
        }
      ],
      "source": [
        "print(\"정수 2개를 입력하시오 : \")                                                # 사용자에게 정수 2개를 입력하라는 메시지를 출력합니다.\n",
        "x = int(input(\"x값을 입력하시오. : \"))                                           # 사용자로부터 x값을 입력받고, 정수로 변환하여 x 변수에 저장합니다.\n",
        "y = int(input(\"y값을 입력 하시오. : \"))                                          # 사용자로부터 y값을 입력받고, 정수로 변환하여 y 변수에 저장합니다.\n",
        "sum = x + y                                                                      # x와 y 변수를 더하여 그 결과를 sum 변수에 저장합니다.\n",
        "print(sum)                                                                       # sum 변수의 값을 출력합니다.\n",
        "print(f'{x} + {y}의 값은 {sum}이다.')                                            # f-string을 사용하여 x, y, sum 변수의 값을 출력합니다."
      ]
    },
    {
      "cell_type": "markdown",
      "source": [
        "print(\"정수 2개를 입력하시오 : \") : \"정수 2개를 입력하시오\"라는 메시지를 출력합니다.\n",
        "x = int(input(\"x값을 입력하시오. : \")) : 사용자로부터 x값을 입력받아 정수로 변환하여 x 변수에 저장합니다.\n",
        "y = int(input(\"y값을 입력 하시오. : \")) : 사용자로부터 y값을 입력받아 정수로 변환하여 y 변수에 저장합니다.\n",
        "sum = x + y : x와 y 변수를 더하여 그 결과를 sum 변수에 저장합니다.\n",
        "print(sum) : sum 변수의 값을 출력합니다.\n",
        "print(f'{x} + {y}의 값은 {sum}이다.') : f-string을 사용하여 x, y, sum 변수의 값을 출력합니다. 중괄호({}) 안에 변수를 넣어 해당 변수의 값을 출력합니다."
      ],
      "metadata": {
        "id": "5tUJp6bu0PvW"
      }
    },
    {
      "cell_type": "markdown",
      "source": [
        "부가세 계산"
      ],
      "metadata": {
        "id": "ETEKy4RKw7tI"
      }
    },
    {
      "cell_type": "code",
      "source": [
        "print(\"상품의 가격을 입력하시오\")                                                # \"상품의 가격을 입력하시오\"라는 메시지를 출력합니다.\n",
        "price= int(input(\"상품의 가격:\"))                                                # 사용자로부터 상품의 가격을 입력받아 정수로 변환하여 price 변수에 저장합니다.\n",
        "vat= price*0.1                                                                   # 가격에 0.1을 곱하여 부가가치세(vat)를 계산합니다.\n",
        "print(vat)                                                                       # 부가가치세(vat) 값을 출력합니다."
      ],
      "metadata": {
        "colab": {
          "base_uri": "https://localhost:8080/"
        },
        "id": "Ag0xIk5sxCsg",
        "outputId": "1c08306c-eb40-4cf1-9173-d1fd3179619a"
      },
      "execution_count": null,
      "outputs": [
        {
          "output_type": "stream",
          "name": "stdout",
          "text": [
            "상품의 가격을 입력하시오\n",
            "상품의 가격:5000\n",
            "500.0\n"
          ]
        }
      ]
    },
    {
      "cell_type": "markdown",
      "source": [
        "print(\"상품의 가격을 입력하시오\") : \"상품의 가격을 입력하시오\"라는 메시지를 출력합니다.\n",
        "price = int(input(\"상품의 가격:\")) : 사용자로부터 상품의 가격을 입력받아 정수로 변환하여 price 변수에 저장합니다.\n",
        "vat = price * 0.1 : 가격에 0.1을 곱하여 부가가치세(vat)를 계산합니다. 부가가치세는 가격의 10%로 계산됩니다.\n",
        "print(vat) : 부가가치세(vat) 값을 출력합니다."
      ],
      "metadata": {
        "id": "z3jFVvID1Qt9"
      }
    }
  ]
}