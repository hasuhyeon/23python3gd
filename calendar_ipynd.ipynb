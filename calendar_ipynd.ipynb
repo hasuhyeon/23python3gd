{
  "nbformat": 4,
  "nbformat_minor": 0,
  "metadata": {
    "colab": {
      "provenance": [],
      "authorship_tag": "ABX9TyMQdxDMTHNMQjw3CZcF9LAU",
      "include_colab_link": true
    },
    "kernelspec": {
      "name": "python3",
      "display_name": "Python 3"
    },
    "language_info": {
      "name": "python"
    }
  },
  "cells": [
    {
      "cell_type": "markdown",
      "metadata": {
        "id": "view-in-github",
        "colab_type": "text"
      },
      "source": [
        "<a href=\"https://colab.research.google.com/github/hasuhyeon/23python3gd/blob/main/calendar_ipynd.ipynb\" target=\"_parent\"><img src=\"https://colab.research.google.com/assets/colab-badge.svg\" alt=\"Open In Colab\"/></a>"
      ]
    },
    {
      "cell_type": "code",
      "execution_count": 5,
      "metadata": {
        "colab": {
          "base_uri": "https://localhost:8080/"
        },
        "id": "xl0egqiuYyXn",
        "outputId": "fb8f12b2-633e-47e5-a567-80707f1b218e"
      },
      "outputs": [
        {
          "output_type": "stream",
          "name": "stdout",
          "text": [
            "    October 2023\n",
            "Mo Tu We Th Fr Sa Su\n",
            "                   1\n",
            " 2  3  4  5  6  7  8\n",
            " 9 10 11 12 13 14 15\n",
            "16 17 18 19 20 21 22\n",
            "23 24 25 26 27 28 29\n",
            "30 31\n",
            "\n"
          ]
        }
      ],
      "source": [
        "import calendar\n",
        "yy = 2023\n",
        "mm = 10\n",
        "print(calendar.month(yy,mm))\n"
      ]
    },
    {
      "cell_type": "markdown",
      "source": [
        "오늘의 to do 리스트\n",
        "- 9:10~11:00 컴퓨팅적 사고와 기초 코딩\n",
        "- 11:00~12:00 아동건강\n",
        "- 12:00~1:00 집가기\n",
        "- 1:00~2:00 점심먹기\n",
        "- 2:00~3:00 영어공부\n",
        "- 3:00~4:00 전공공부\n",
        "- 4:00~5:00 유튜브 시청\n",
        "- 5:00~6:00 저녁먹기"
      ],
      "metadata": {
        "id": "mXyNOqrfbEoI"
      }
    },
    {
      "cell_type": "code",
      "source": [
        "print ('hello world')\n",
        "print (\"9:00~11:00 컴퓨팅적 사고와 기초코딩\")\n",
        "print (\"11:00~12:00 아동건강\")\n",
        "print (\"12:00~1:00 집가기\")\n",
        "print (\"1:00~2:00 점심먹기\")\n",
        "print (\"2:00~3:00 영어공부\")\n",
        "print(\"3:00~4:00 전공공부\")\n",
        "print(\"4:00~5:00 유튜브시청\")\n",
        "print(\"5:00~6:00 저녁먹기\")\n",
        "\n",
        "\n",
        "\n",
        "\n",
        "\n",
        "\n",
        "\n",
        "\n",
        "\n",
        "\n",
        "\n",
        "\n",
        "\n",
        "\n",
        "\n",
        "\n",
        "\n",
        "\n",
        "\n",
        "\n",
        "\n",
        "\n"
      ],
      "metadata": {
        "colab": {
          "base_uri": "https://localhost:8080/"
        },
        "id": "p33kb1Dhc_H5",
        "outputId": "a1ea794c-7ae8-42fe-da2c-d63353a79553"
      },
      "execution_count": 10,
      "outputs": [
        {
          "output_type": "stream",
          "name": "stdout",
          "text": [
            "hello world\n",
            "9:00~11:00 컴퓨팅적 사고와 기초코딩\n",
            "11:00~12:00 아동건강\n",
            "12:00~1:00 집가기\n",
            "1:00~2:00 점심먹기\n",
            "2:00~3:00 영어공부\n",
            "3:00~4:00 전공공부\n",
            "4:00~5:00 유튜브시청\n",
            "5:00~6:00 저녁먹기\n"
          ]
        }
      ]
    }
  ]
}