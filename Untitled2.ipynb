{
  "nbformat": 4,
  "nbformat_minor": 0,
  "metadata": {
    "colab": {
      "provenance": [],
      "authorship_tag": "ABX9TyPiUbz606/CmS7vSpzKv+32",
      "include_colab_link": true
    },
    "kernelspec": {
      "name": "python3",
      "display_name": "Python 3"
    },
    "language_info": {
      "name": "python"
    }
  },
  "cells": [
    {
      "cell_type": "markdown",
      "metadata": {
        "id": "view-in-github",
        "colab_type": "text"
      },
      "source": [
        "<a href=\"https://colab.research.google.com/github/hasuhyeon/23python3gd/blob/main/Untitled2.ipynb\" target=\"_parent\"><img src=\"https://colab.research.google.com/assets/colab-badge.svg\" alt=\"Open In Colab\"/></a>"
      ]
    },
    {
      "cell_type": "markdown",
      "source": [
        "6.팩토리얼 계산하는 코드 작성\n",
        "- 1! = 1,2!=2(1)2,3!=(3(2)(1)=6\n"
      ],
      "metadata": {
        "id": "hiF2LY0cenpx"
      }
    },
    {
      "cell_type": "code",
      "source": [
        "i = 5\n",
        "factorial = 1\n",
        "while i >= 1:\n",
        "    factorial += i\n",
        "    i -= 1\n",
        "print(factorial)"
      ],
      "metadata": {
        "colab": {
          "base_uri": "https://localhost:8080/"
        },
        "id": "5LCXcG9gfIBI",
        "outputId": "a85dcd84-e60e-4a55-b71a-9454ffc1ebdf"
      },
      "execution_count": 15,
      "outputs": [
        {
          "output_type": "stream",
          "name": "stdout",
          "text": [
            "16\n"
          ]
        }
      ]
    },
    {
      "cell_type": "code",
      "source": [
        "# 계산할 숫자를 입력 받습니다.\n",
        "num = int(input(\"팩토리얼을 게산할 숫자를 입력하시오.: \"))\n",
        "\n",
        "# 초기값으로 1을 설정합니다.\n",
        "factorial = 1\n",
        "\n",
        "#팩토리얼 계산을 위한 반복문인  while 입니다.\n",
        "while num <= 1:\n",
        "    factorial = factorial * num\n",
        "    num-= 1\n",
        "\n",
        "print(f'게된 팩토리얼 값은 (factorial)입니다. ')"
      ],
      "metadata": {
        "colab": {
          "base_uri": "https://localhost:8080/"
        },
        "id": "VnBj33-wgybe",
        "outputId": "848cda12-30b9-4e4b-994f-639d8becded9"
      },
      "execution_count": 25,
      "outputs": [
        {
          "output_type": "stream",
          "name": "stdout",
          "text": [
            "팩토리얼을 게산할 숫자를 입력하시오.: 5\n",
            "게된 팩토리얼 값은 (factorial)입니다. \n"
          ]
        }
      ]
    },
    {
      "cell_type": "markdown",
      "source": [
        "7.구구단 출력해주는 코드 작성\n",
        "- 변수 dan\n",
        "- 반복문(1):for문 사용\n",
        "- 반복문(2):while문 사용"
      ],
      "metadata": {
        "id": "vJvW2jtOkYD_"
      }
    },
    {
      "cell_type": "code",
      "source": [
        " # for문 사용\n",
        "dan = int(input(\"구구단에서 몇단을 출력할까요:\"))\n",
        "for i in range(1,10):\n",
        "  print(dan, \"x\", 1, \"=\", dan * 1)"
      ],
      "metadata": {
        "colab": {
          "base_uri": "https://localhost:8080/"
        },
        "id": "PFShuLVNk1bL",
        "outputId": "8701e51a-c490-4627-92ad-50560dbc797b"
      },
      "execution_count": 29,
      "outputs": [
        {
          "output_type": "stream",
          "name": "stdout",
          "text": [
            "구구단에서 몇단을 출력할까요:4\n",
            "4 x 1 = 4\n",
            "4 x 1 = 4\n",
            "4 x 1 = 4\n",
            "4 x 1 = 4\n",
            "4 x 1 = 4\n",
            "4 x 1 = 4\n",
            "4 x 1 = 4\n",
            "4 x 1 = 4\n",
            "4 x 1 = 4\n"
          ]
        }
      ]
    },
    {
      "cell_type": "code",
      "source": [
        "# while문 사용\n",
        "dan = int(input(\"구구단에서 몇단을 출력할래?: \"))\n",
        "i = 1\n",
        "while i <= 9:\n",
        "      print(dan, \"x\", i, \"=\", dan *i)\n",
        "      i += 1\n"
      ],
      "metadata": {
        "colab": {
          "base_uri": "https://localhost:8080/"
        },
        "id": "h6TGhhbUmJ5H",
        "outputId": "e7152713-eec1-4b29-ff71-ccae7f3b1b9d"
      },
      "execution_count": 30,
      "outputs": [
        {
          "output_type": "stream",
          "name": "stdout",
          "text": [
            "구구단에서 몇단을 출력할래?: 4\n",
            "4 x 1 = 4\n",
            "4 x 2 = 8\n",
            "4 x 3 = 12\n",
            "4 x 4 = 16\n",
            "4 x 5 = 20\n",
            "4 x 6 = 24\n",
            "4 x 7 = 28\n",
            "4 x 8 = 32\n",
            "4 x 9 = 36\n"
          ]
        }
      ]
    }
  ]
}