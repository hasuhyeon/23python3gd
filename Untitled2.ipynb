{
  "nbformat": 4,
  "nbformat_minor": 0,
  "metadata": {
    "colab": {
      "provenance": [],
      "authorship_tag": "ABX9TyMy2gD20+vTlzknk8WmgVVX",
      "include_colab_link": true
    },
    "kernelspec": {
      "name": "python3",
      "display_name": "Python 3"
    },
    "language_info": {
      "name": "python"
    }
  },
  "cells": [
    {
      "cell_type": "markdown",
      "metadata": {
        "id": "view-in-github",
        "colab_type": "text"
      },
      "source": [
        "<a href=\"https://colab.research.google.com/github/hasuhyeon/23python3gd/blob/main/Untitled2.ipynb\" target=\"_parent\"><img src=\"https://colab.research.google.com/assets/colab-badge.svg\" alt=\"Open In Colab\"/></a>"
      ]
    },
    {
      "cell_type": "markdown",
      "source": [
        "6.팩토리얼 계산하는 코드 작성\n",
        "- 1! = 1,2!=2(1)2,3!=(3(2)(1)=6\n"
      ],
      "metadata": {
        "id": "hiF2LY0cenpx"
      }
    },
    {
      "cell_type": "code",
      "source": [
        "i = 5                                                                             # 변수 i를 5로 초기화합니다.\n",
        "factorial = 1                                                                    # 변수 factorial을 1로 초기화합니다. 이 변수는 팩토리얼 값을 저장할 변수입니다.\n",
        "while i >= 1:                                                                    # i가 1 이상일 동안 아래의 코드 블록을 반복합니다.\n",
        "    factorial *= i                                                               # factorial에 i를 더합니다. i부터 1까지의 값을 누적하여 더합니다.\n",
        "    i -= 1                                                                       # i의 값을 1씩 감소시킵니다.\n",
        "print(factorial)                                                                 # 최종적으로 누적된 factorial 값을 출력합니다"
      ],
      "metadata": {
        "colab": {
          "base_uri": "https://localhost:8080/"
        },
        "id": "5LCXcG9gfIBI",
        "outputId": "a85dcd84-e60e-4a55-b71a-9454ffc1ebdf"
      },
      "execution_count": null,
      "outputs": [
        {
          "output_type": "stream",
          "name": "stdout",
          "text": [
            "16\n"
          ]
        }
      ]
    },
    {
      "cell_type": "markdown",
      "source": [
        "주어진 코드는 주어진 i 값부터 1까지의 숫자를 곱하여 팩토리얼 값을 계산하는 코드입니다. 주어진 코드는 올바르게 동작합니다.\n",
        "\n",
        "팩토리얼은 주어진 수부터 1까지의 모든 수를 곱한 값을 의미합니다. 주어진 코드는 factorial 변수에 i부터 1까지의 값을 차례로 곱하여 팩토리얼 값을 계산하고, 그 값을 출력합니다.\n",
        "\n",
        "따라서, 주어진 코드는 5!의 값을 계산하여 출력합니다. 5!은 5 * 4 * 3 * 2 * 1 = 120 이므로, 코드 실행 결과는 120이 출력됩니다."
      ],
      "metadata": {
        "id": "Tql9PTCikQa2"
      }
    },
    {
      "cell_type": "code",
      "source": [
        "# 계산할 숫자를 입력 받습니다.\n",
        "num = int(input(\"팩토리얼을 게산할 숫자를 입력하시오.: \"))                       # 계산할 숫자를 입력 받습니다.\n",
        "\n",
        "# 초기값으로 1을 설정합니다.\n",
        "factorial = 1                                                                    # 초기값으로 1을 설정합니다.\n",
        "\n",
        "#팩토리얼 계산을 위한 반복문인  while 입니다.\n",
        "while num >= 1:                                                                  # 입력받은 숫자가 1 이상일 때까지 반복합니다.\n",
        "    factorial = factorial * num                                                  # factorial에 num을 곱하여 값을 누적합니다.\n",
        "    num-= 1                                                                      # num을 1씩 감소시킵니다.\n",
        "print(f'게된 팩토리얼 값은 (factorial)입니다. ')                                 # 계산된 팩토리얼 값을 출력합니다."
      ],
      "metadata": {
        "colab": {
          "base_uri": "https://localhost:8080/"
        },
        "id": "VnBj33-wgybe",
        "outputId": "848cda12-30b9-4e4b-994f-639d8becded9"
      },
      "execution_count": null,
      "outputs": [
        {
          "output_type": "stream",
          "name": "stdout",
          "text": [
            "팩토리얼을 게산할 숫자를 입력하시오.: 5\n",
            "게된 팩토리얼 값은 (factorial)입니다. \n"
          ]
        }
      ]
    },
    {
      "cell_type": "markdown",
      "source": [
        "사용자로부터 입력받은 숫자의 팩토리얼 값을 계산하고, 그 값을 출력하는 코드입니다.\n",
        "입력받은 숫자부터 1까지의 모든 수를 곱하여 팩토리얼 값을 계산하고, 그 값을 출력합니다. 출력 시에는 중괄호 {}를 사용하여 계산된 팩토리얼 값을 문자열에 삽입합니다."
      ],
      "metadata": {
        "id": "Y5-7dzXSsX81"
      }
    },
    {
      "cell_type": "markdown",
      "source": [
        "7.구구단 출력해주는 코드 작성\n",
        "- 변수 dan\n",
        "- 반복문(1):for문 사용\n",
        "- 반복문(2):while문 사용"
      ],
      "metadata": {
        "id": "vJvW2jtOkYD_"
      }
    },
    {
      "cell_type": "code",
      "source": [
        " # for문 사용\n",
        "dan = int(input(\"구구단에서 몇단을 출력할까요:\"))\n",
        "for i in range(1,10):\n",
        "  print(dan, \"x\", i, \"=\", dan * 1)"
      ],
      "metadata": {
        "colab": {
          "base_uri": "https://localhost:8080/"
        },
        "id": "PFShuLVNk1bL",
        "outputId": "8701e51a-c490-4627-92ad-50560dbc797b"
      },
      "execution_count": null,
      "outputs": [
        {
          "output_type": "stream",
          "name": "stdout",
          "text": [
            "구구단에서 몇단을 출력할까요:4\n",
            "4 x 1 = 4\n",
            "4 x 1 = 4\n",
            "4 x 1 = 4\n",
            "4 x 1 = 4\n",
            "4 x 1 = 4\n",
            "4 x 1 = 4\n",
            "4 x 1 = 4\n",
            "4 x 1 = 4\n",
            "4 x 1 = 4\n"
          ]
        }
      ]
    },
    {
      "cell_type": "markdown",
      "source": [
        "for문을 사용하여 i 변수를 1부터 9까지 반복하면서 각각의 값을 출력하고 있습니다."
      ],
      "metadata": {
        "id": "QJ0BjOJJtwbC"
      }
    },
    {
      "cell_type": "code",
      "source": [
        "# while문 사용\n",
        "dan = int(input(\"구구단에서 몇단을 출력할래?: \"))                                # 사용자로부터 구구단을 출력할 단을 입력받습니다.\n",
        "i = 1                                                                            # 반복문을 위한 변수 i를 초기화합니다.\n",
        "while i <= 9:                                                                    # i가 1부터 9까지인 동안 반복합니다.\n",
        "      print(dan, \"x\", i, \"=\", dan *i)                                            # 구구단 계산식을 출력합니다.\n",
        "      i += 1                                                                     # i를 1씩 증가시킵니다.\n"
      ],
      "metadata": {
        "colab": {
          "base_uri": "https://localhost:8080/"
        },
        "id": "h6TGhhbUmJ5H",
        "outputId": "e7152713-eec1-4b29-ff71-ccae7f3b1b9d"
      },
      "execution_count": null,
      "outputs": [
        {
          "output_type": "stream",
          "name": "stdout",
          "text": [
            "구구단에서 몇단을 출력할래?: 4\n",
            "4 x 1 = 4\n",
            "4 x 2 = 8\n",
            "4 x 3 = 12\n",
            "4 x 4 = 16\n",
            "4 x 5 = 20\n",
            "4 x 6 = 24\n",
            "4 x 7 = 28\n",
            "4 x 8 = 32\n",
            "4 x 9 = 36\n"
          ]
        }
      ]
    },
    {
      "cell_type": "markdown",
      "source": [
        "주어진 코드는 사용자로부터 입력받은 숫자에 대한 구구단을 출력하는 코드입니다. while문을 사용하여 구구단을 출력하고 있습니다. 주석과 설명을 추가하면 코드의 의미와 동작을 명확하게 알 수 있습니다. 위의 코드는 입력받은 숫자에 대한 구구단을 출력하면서, 주석을 통해 사용자 입력과 반복문의 동작을 설명하고 있습니다."
      ],
      "metadata": {
        "id": "BA8_UkR-u9dB"
      }
    }
  ]
}