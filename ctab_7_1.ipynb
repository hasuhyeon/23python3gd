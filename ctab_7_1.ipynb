{
  "nbformat": 4,
  "nbformat_minor": 0,
  "metadata": {
    "colab": {
      "provenance": [],
      "authorship_tag": "ABX9TyPC8wnhU+krhYylYULkrZci",
      "include_colab_link": true
    },
    "kernelspec": {
      "name": "python3",
      "display_name": "Python 3"
    },
    "language_info": {
      "name": "python"
    }
  },
  "cells": [
    {
      "cell_type": "markdown",
      "metadata": {
        "id": "view-in-github",
        "colab_type": "text"
      },
      "source": [
        "<a href=\"https://colab.research.google.com/github/hasuhyeon/23python3gd/blob/main/ctab_7_1.ipynb\" target=\"_parent\"><img src=\"https://colab.research.google.com/assets/colab-badge.svg\" alt=\"Open In Colab\"/></a>"
      ]
    },
    {
      "cell_type": "markdown",
      "source": [
        "1. 일한시간과 시급을 계산하여 출력하는 코드"
      ],
      "metadata": {
        "id": "4ok0WOStn1c1"
      }
    },
    {
      "cell_type": "code",
      "source": [
        "hours_worked = int(input(\"일한시간을 입력하시오.\"))                              #사용자로부터 일한 시간을 입력받아 정수로 변환하여 hours_worked 변수에 저장합니다.\n",
        "pay_rate = int(input(\"시급을 입력하시오.(23년 시급 9620):\"))                     # 사용자로부터 시급을 입력받아 정수로 변환하여 pay_rate 변수에 저장합니다.\n",
        "day_worked = int(input(\"일한날짜를 입력하시오. : \"))                             # 사용자로부터 일한 날짜를 입력받아 정수로 변환하여 day_worked 변수에 저장합니다.\n",
        "day_month = hours_worked * day_worked                                            # 일한 시간과 일한 날짜를 곱하여 day_month 변수에 저장합니다.\n",
        "monthly_pay = hours_worked * pay_rate * day_worked                                # 일한 시간, 시급, 일한 날짜를 곱하여 월급여를 계산하여 monthly_pay 변수에 저장합니다.\n",
        "print(f'일한시간은 {hours_worked}이며 시급은 (pay_rate)이고, 월급여는{monthly_pay}입니다.') # f-string을 사용하여 일한 시간, 시급, 월급여를 출력합니다."
      ],
      "metadata": {
        "colab": {
          "base_uri": "https://localhost:8080/"
        },
        "id": "IbzOAkkXpFX2",
        "outputId": "59f7b0d8-106c-44b7-9f62-0ede6aa6b1d0"
      },
      "execution_count": null,
      "outputs": [
        {
          "output_type": "stream",
          "name": "stdout",
          "text": [
            "일한시간을 입력하시오.10\n",
            "시급을 입력하시오.(23년 시급 9620):9620\n",
            "일한날짜를 입력하시오. : 25\n",
            "일한시간은 10이며 시급은 (pay_rate)이고, 월급여는2405000입니다.\n"
          ]
        }
      ]
    },
    {
      "cell_type": "markdown",
      "source": [
        "hours_worked = int(input(\"일한 시간을 입력하시오.: \")) : 사용자로부터 일한 시간을 입력받아 정수로 변환하여 hours_worked 변수에 저장합니다.\n",
        "pay_rate = int(input(\"시급을 입력하시오.(23년 시급 9620): \")) : 사용자로부터 시급을 입력받아 정수로 변환하여 pay_rate 변수에 저장합니다.\n",
        "day_worked = int(input(\"일한 날짜를 입력하시오.: \")) : 사용자로부터 일한 날짜를 입력받아 정수로 변환하여 day_worked 변수에 저장합니다.\n",
        "day_month = hours_worked * day_worked : 일한 시간과 일한 날짜를 곱하여 day_month 변수에 저장합니다.\n",
        "monthly_pay = hours_worked * pay_rate * day_worked : 일한 시간, 시급, 일한 날짜를 곱하여 월급여를 계산하여 monthly_pay 변수에 저장합니다.\n",
        "print(f'일한 시간은 {hours_worked}이며 시급은 {pay_rate}이고, 월급여는 {monthly_pay}입니다.') : f-string을 사용하여 일한 시간, 시급, 월급여를 출력합니다."
      ],
      "metadata": {
        "id": "Q0ATWQlw9RR8"
      }
    },
    {
      "cell_type": "markdown",
      "source": [
        "2. 환전하는 코드를 작성\n",
        "- 변수 won, usd, exchange\n",
        "\n",
        "- 계산won*usd"
      ],
      "metadata": {
        "id": "joJnWnjlwxuI"
      }
    },
    {
      "cell_type": "code",
      "source": [
        "won = int(input(\"환전할 금액을 입력:\"))                                          # 사용자로부터 환전할 금액을 입력받아 정수로 변환하여 won 변수에 저장합니다.\n",
        "usd = int (input(\"달러의 환율 금액 입력 (231031: 1372원)\"))                      # 사용자로부터 달러의 환율 금액을 입력받아 정수로 변환하여 usd 변수에 저장합니다.\n",
        "exchange = won *usd                                                              # 환전할 금액과 환율을 곱하여 exchange 변수에 저장합니다.\n",
        "print(exchange)                                                                  # exchange 값을 출력합니다.\n"
      ],
      "metadata": {
        "colab": {
          "base_uri": "https://localhost:8080/"
        },
        "id": "X4NLfyvTxWmh",
        "outputId": "2d92d711-d049-40ee-cccf-d3533cf1796a"
      },
      "execution_count": null,
      "outputs": [
        {
          "output_type": "stream",
          "name": "stdout",
          "text": [
            "환전할 금액을 입력:2000\n",
            "달러의 환율 금액 입력 (231031: 1372원)1372\n",
            "2744000\n"
          ]
        }
      ]
    },
    {
      "cell_type": "markdown",
      "source": [
        "won = int(input(\"환전할 금액을 입력하세요: \")) : 사용자로부터 환전할 금액을 입력받아 정수로 변환하여 won 변수에 저장합니다.\n",
        "usd = int(input(\"달러의 환율 금액을 입력하세요 (231031: 1372원): \")) : 사용자로부터 달러의 환율 금액을 입력받아 정수로 변환하여 usd 변수에 저장합니다.\n",
        "exchange = won * usd : 환전할 금액과 환율을 곱하여 exchange 변수에 저장합니다.\n",
        "print(exchange) : exchange 값을 출력합니다."
      ],
      "metadata": {
        "id": "FaHhdjNd9yOz"
      }
    },
    {
      "cell_type": "markdown",
      "source": [
        "3. 화씨를 섭씨로 섭씨를 화싸로 변경하는 코드\n",
        "- 화씨를 섭씨로 \"F = ℃* 1.8+32\n",
        "-섭씨를 화씨로 \"℃=('F-32) / 1.8\n",
        "-변수 화씨 fahrenheit, 섭씨 celsius\n"
      ],
      "metadata": {
        "id": "raksi5k60WGa"
      }
    },
    {
      "cell_type": "code",
      "source": [
        "fahrenheit = int(input(\"화씨를 입력하시오.:\"))                                   # 사용자로부터 화씨 온도를 입력받아 정수로 변환하여 fahrenheit 변수에 저장합니다.\n",
        "celsius = (fahrenheit - 32) / 1.8                                                # 사용자로부터 화씨 온도를 입력받아 정수로 변환하여 fahrenheit 변수에 저장합니다.\n",
        "print(celsius)                                                                   # celsius 값을 출력합니다."
      ],
      "metadata": {
        "colab": {
          "base_uri": "https://localhost:8080/"
        },
        "id": "SFZuzg051uoT",
        "outputId": "c697037b-8b82-49af-fa72-9521221dd69c"
      },
      "execution_count": null,
      "outputs": [
        {
          "output_type": "stream",
          "name": "stdout",
          "text": [
            "화씨를 입력하시오.:100\n",
            "37.77777777777778\n"
          ]
        }
      ]
    },
    {
      "cell_type": "markdown",
      "source": [
        "fahrenheit = int(input(\"화씨를 입력하시오.: \")) : 사용자로부터 화씨 온도를 입력받아 정수로 변환하여 fahrenheit 변수에 저장합니다.\n",
        "celsius = (fahrenheit - 32) / 1.8 : 입력받은 화씨 온도를 섭씨 온도로 변환하여 celsius 변수에 저장합니다.\n",
        "print(celsius) : celsius 값을 출력합니다."
      ],
      "metadata": {
        "id": "cr_ILsZ7-6RB"
      }
    },
    {
      "cell_type": "code",
      "source": [
        "celsius = float(input(\"섭씨를 입력하시오.:\"))                                    # 사용자로부터 섭씨 온도를 입력받아 실수로 변환하여 celsius 변수에 저장합니다.\n",
        "fahrenheit = celsius * 1.8 +32                                                   # 사용자로부터 섭씨 온도를 입력받아 실수로 변환하여 celsius 변수에 저장합니다.\n",
        "print(fahrenheit)                                                                # fahrenheit 값을 출력합니다."
      ],
      "metadata": {
        "colab": {
          "base_uri": "https://localhost:8080/"
        },
        "id": "rCys9i173YQZ",
        "outputId": "446e3fad-4a6e-4aa9-eb1a-4a89ea191127"
      },
      "execution_count": null,
      "outputs": [
        {
          "output_type": "stream",
          "name": "stdout",
          "text": [
            "섭씨를 입력하시오.:37.77777777777778\n",
            "100.0\n"
          ]
        }
      ]
    },
    {
      "cell_type": "markdown",
      "source": [
        "celsius = float(input(\"섭씨를 입력하시오.: \")) : 사용자로부터 섭씨 온도를 입력받아 실수로 변환하여 celsius 변수에 저장합니다.\n",
        "fahrenheit = celsius * 1.8 + 32 : 입력받은 섭씨 온도를 화씨 온도로 변환하여 fahrenheit 변수에 저장합니다.\n",
        "print(fahrenheit) : fahrenheit 값을 출력합니다."
      ],
      "metadata": {
        "id": "5bHUFAlk_Lhf"
      }
    }
  ]
}