{
  "nbformat": 4,
  "nbformat_minor": 0,
  "metadata": {
    "colab": {
      "provenance": [],
      "authorship_tag": "ABX9TyOWiu3fdQj/Gzr0Na20R6fp",
      "include_colab_link": true
    },
    "kernelspec": {
      "name": "python3",
      "display_name": "Python 3"
    },
    "language_info": {
      "name": "python"
    }
  },
  "cells": [
    {
      "cell_type": "markdown",
      "metadata": {
        "id": "view-in-github",
        "colab_type": "text"
      },
      "source": [
        "<a href=\"https://colab.research.google.com/github/hasuhyeon/23python3gd/blob/main/cdba_1.ipynb\" target=\"_parent\"><img src=\"https://colab.research.google.com/assets/colab-badge.svg\" alt=\"Open In Colab\"/></a>"
      ]
    },
    {
      "cell_type": "markdown",
      "source": [
        "1. 쇼핑몰 배송료를 계산하는 코드 작성\n",
        "- 사용하는 변수 price, shopping_cost"
      ],
      "metadata": {
        "id": "3ekP5AU_cdmv"
      }
    },
    {
      "cell_type": "code",
      "source": [
        "print(\"상품의 가격을 입력하시오.\")\n",
        "price = int(input(\"구입 금액을 입력: \") )\n",
        "if price > 20000:\n",
        "  shopping_cost = 0\n",
        "  print(f'구입 금액이 2만원 아상입니다.')\n",
        "else:\n",
        "    shipping_cost = 3000\n",
        "    print(f\"구입 금액이 20만원 이상 입니다.\")\n",
        "print(f'회원님이 배송비는{shopping_cost}원 입니다.')"
      ],
      "metadata": {
        "colab": {
          "base_uri": "https://localhost:8080/"
        },
        "id": "lRgip7I0c2bz",
        "outputId": "c353fe51-8517-4549-e279-522b3bcfbeb6"
      },
      "execution_count": null,
      "outputs": [
        {
          "output_type": "stream",
          "name": "stdout",
          "text": [
            "상품의 가격을 입력하시오.\n",
            "구입 금액을 입력: 20001\n",
            "구입 금액이 2만원 아상입니다.\n",
            "회원님이 배송비는0원 입니다.\n"
          ]
        }
      ]
    },
    {
      "cell_type": "markdown",
      "source": [
        "학생으로 부터 성적을 입력 받아 입력 유무를 출력하는 코드\n",
        "- 사용 변수는:grade"
      ],
      "metadata": {
        "id": "LrWv06-ugwqJ"
      }
    },
    {
      "cell_type": "code",
      "source": [
        "print(\"성적을 입력하시오.\")\n",
        "grade = int(input(\"성적 입력:\"))\n",
        "if grade >+ 70:\n",
        "  print(f\"70점 이상이므로 합격 입니다.\")\n",
        "  print(\"축하합니다. 합격입니다\")\n",
        "else:\n",
        "  print(f\"70점 이하이므로 불합격 입니다.\")\n",
        "  print(\"아쉽군요, 다시한번 도전하세요. \")"
      ],
      "metadata": {
        "colab": {
          "base_uri": "https://localhost:8080/"
        },
        "id": "WnFqssx8hEWI",
        "outputId": "ec3db1cb-c310-4e03-89e1-50b42fb32bab"
      },
      "execution_count": null,
      "outputs": [
        {
          "output_type": "stream",
          "name": "stdout",
          "text": [
            "성적을 입력하시오.\n",
            "성적 입력:71\n",
            "70점 이상이므로 합격 입니다.\n",
            "축하합니다. 합격입니다\n"
          ]
        }
      ]
    },
    {
      "cell_type": "markdown",
      "source": [
        "근무시간에 따라 초과근무와 정상근무를 판별하는 코드\n",
        "- work_hour\n",
        "-연산코드는 worke_hour > 72"
      ],
      "metadata": {
        "id": "2BNkprmYjL2C"
      }
    },
    {
      "cell_type": "code",
      "source": [
        "print(\"근무시간을 입력하시오,\")\n",
        "worke_hour = int(input(\"근무시간 입력: \"))\n",
        "if worke_hour > 72:\n",
        "  print(\"-\"*43)\n",
        "  print(f\"초과근무입니다.\")\n",
        "else:\n",
        "  print(f\"정상근무입니다. \")"
      ],
      "metadata": {
        "colab": {
          "base_uri": "https://localhost:8080/"
        },
        "id": "tzPVWbUTkqgh",
        "outputId": "7b799a69-8ba1-43fe-d1bd-07310f4f9294"
      },
      "execution_count": null,
      "outputs": [
        {
          "output_type": "stream",
          "name": "stdout",
          "text": [
            "근무시간을 입력하시오,\n",
            "근무시간 입력: 75\n",
            "-------------------------------------------\n",
            "초과근무입니다.\n"
          ]
        }
      ]
    },
    {
      "cell_type": "markdown",
      "source": [
        "4. 짝수와 홀수를 판별하는 코드\n",
        "- 사용하는:num\n",
        "\n",
        "- 수식:(x % 2)!+0:"
      ],
      "metadata": {
        "id": "WZ-WDRf5mXnS"
      }
    },
    {
      "cell_type": "code",
      "source": [
        "print(\"정수를 입력하시오. \")\n",
        "_rum_ = int(input(\"정수 입력:\"))\n",
        "if(_rum_ % 2) !=0:\n",
        "  print(F\" 입력하신 (_rum_)은 홀수입니다.\")\n",
        "else:\n",
        "  print(f'입력하신(_rum_)은 짝수입니다.')"
      ],
      "metadata": {
        "colab": {
          "base_uri": "https://localhost:8080/"
        },
        "id": "q1JH3GVDnlVb",
        "outputId": "8204df03-0146-41f2-bae3-2f16904e5cc8"
      },
      "execution_count": null,
      "outputs": [
        {
          "output_type": "stream",
          "name": "stdout",
          "text": [
            "정수를 입력하시오. \n",
            "정수 입력:2\n",
            "입력하신(_rum_)은 짝수입니다.\n"
          ]
        }
      ]
    },
    {
      "cell_type": "markdown",
      "source": [
        "5. 사용자의 이름과 나이를 물어보고, 답변하는 코드\n",
        "- 사용변수: name,age\n",
        "- 출력할 내용:\n",
        " -성명:\n",
        " -나이:20\n",
        "  - (1)20이하: 입력할 내용: 프로그래밍을 배우는 최적의 나이입니다.\n",
        "  - (2)20이상: 아직도 늦지 않았습니다.\n"
      ],
      "metadata": {
        "id": "kYtUGutapyt7"
      }
    },
    {
      "cell_type": "code",
      "source": [
        "print(\"이름과 나이를 입력하시오. \")\n",
        "name = input(\"이름입력: \")\n",
        "age = int(input(\"나이입력: \"))\n",
        "if age <= 20:\n",
        " print(f'프로그래밍을 배우는 최적의 나이입니다. ')\n",
        "else:\n",
        "  print(f'아직도 늦지 않았습니다. ')"
      ],
      "metadata": {
        "colab": {
          "base_uri": "https://localhost:8080/"
        },
        "id": "G047MYauqgd9",
        "outputId": "e13fdaef-ed5f-4bdf-c1ae-51c7cf45f2b7"
      },
      "execution_count": null,
      "outputs": [
        {
          "output_type": "stream",
          "name": "stdout",
          "text": [
            "이름과 나이를 입력하시오. \n",
            "이름입력: 하수현\n",
            "나이입력: 30\n",
            "아직도 늦지 않았습니다. \n"
          ]
        }
      ]
    }
  ]
}