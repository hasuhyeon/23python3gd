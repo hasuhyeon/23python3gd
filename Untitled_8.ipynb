{
  "nbformat": 4,
  "nbformat_minor": 0,
  "metadata": {
    "colab": {
      "provenance": [],
      "authorship_tag": "ABX9TyO8HWX/JGmkS1rCipILYKz0",
      "include_colab_link": true
    },
    "kernelspec": {
      "name": "python3",
      "display_name": "Python 3"
    },
    "language_info": {
      "name": "python"
    }
  },
  "cells": [
    {
      "cell_type": "markdown",
      "metadata": {
        "id": "view-in-github",
        "colab_type": "text"
      },
      "source": [
        "<a href=\"https://colab.research.google.com/github/hasuhyeon/23python3gd/blob/main/Untitled_8.ipynb\" target=\"_parent\"><img src=\"https://colab.research.google.com/assets/colab-badge.svg\" alt=\"Open In Colab\"/></a>"
      ]
    },
    {
      "cell_type": "markdown",
      "source": [
        "사용자로부터 2개의 정수를 받아서 합계로 출력"
      ],
      "metadata": {
        "id": "gdK_Cm8NupkC"
      }
    },
    {
      "cell_type": "code",
      "execution_count": 1,
      "metadata": {
        "colab": {
          "base_uri": "https://localhost:8080/"
        },
        "id": "ujMbzpJ1uljl",
        "outputId": "71466f22-84cc-4a27-92ad-c3f9ec2b9e0d"
      },
      "outputs": [
        {
          "output_type": "stream",
          "name": "stdout",
          "text": [
            "정수 2개를 입력하시오 : \n",
            "x값을 입력하시오. : 2\n",
            "y값을 입력 하시오. : 4\n",
            "6\n",
            "2 + 4의 값은 6이다.\n"
          ]
        }
      ],
      "source": [
        "print(\"정수 2개를 입력하시오 : \")\n",
        "x = int(input(\"x값을 입력하시오. : \"))\n",
        "y = int(input(\"y값을 입력 하시오. : \"))\n",
        "sum = x + y\n",
        "print(sum)\n",
        "print(f'{x} + {y}의 값은 {sum}이다.')"
      ]
    },
    {
      "cell_type": "markdown",
      "source": [
        "부가세 계산"
      ],
      "metadata": {
        "id": "ETEKy4RKw7tI"
      }
    },
    {
      "cell_type": "code",
      "source": [
        "print(\"상품의 가격을 입력하시오\")\n",
        "price= int(input(\"상품의 가격:\"))\n",
        "vat= price*0.1\n",
        "print(vat)"
      ],
      "metadata": {
        "colab": {
          "base_uri": "https://localhost:8080/"
        },
        "id": "Ag0xIk5sxCsg",
        "outputId": "1c08306c-eb40-4cf1-9173-d1fd3179619a"
      },
      "execution_count": 2,
      "outputs": [
        {
          "output_type": "stream",
          "name": "stdout",
          "text": [
            "상품의 가격을 입력하시오\n",
            "상품의 가격:5000\n",
            "500.0\n"
          ]
        }
      ]
    }
  ]
}