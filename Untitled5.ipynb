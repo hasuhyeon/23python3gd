{
  "nbformat": 4,
  "nbformat_minor": 0,
  "metadata": {
    "colab": {
      "provenance": [],
      "authorship_tag": "ABX9TyMWn2jsNfjmur16e6Ai6h5J",
      "include_colab_link": true
    },
    "kernelspec": {
      "name": "python3",
      "display_name": "Python 3"
    },
    "language_info": {
      "name": "python"
    }
  },
  "cells": [
    {
      "cell_type": "markdown",
      "metadata": {
        "id": "view-in-github",
        "colab_type": "text"
      },
      "source": [
        "<a href=\"https://colab.research.google.com/github/hasuhyeon/23python3gd/blob/main/Untitled5.ipynb\" target=\"_parent\"><img src=\"https://colab.research.google.com/assets/colab-badge.svg\" alt=\"Open In Colab\"/></a>"
      ]
    },
    {
      "cell_type": "code",
      "execution_count": null,
      "metadata": {
        "id": "zBhWiOLNuh5l"
      },
      "outputs": [],
      "source": [
        "Python 3.12.0 (tags/v3.12.0:0fb18b0, Oct  2 2023, 13:03:39) [MSC v.1935 64 bit (AMD64)] on win32\n",
        "Type \"help\", \"copyright\", \"credits\" or \"license()\" for more information.\n",
        "print(\"hello world\")\n",
        "hello world\n",
        "\"helloworld\"\n",
        "'helloworld'\n",
        "4+4\n",
        "8\n",
        "hello world"
      ]
    },
    {
      "cell_type": "markdown",
      "source": [
        "위 코드는 \"hello world\"라는 문자열을 출력하는 코드입니다. print() 함수를 사용하여 괄호 안에 있는 문자열을 출력합니다. hello와 world라는 두 개의 변수를 사용한 것으로 보입니다. 변수를 사용하기 위해서는 변수를 정의하고 값을 할당해야 합니다. 따라서, hello와 world라는 변수를 정의하고 값을 할당한 후에 해당 코드를 실행해야 합니다.\"helloworld\"라는 문자열입니다. 큰따옴표(\")로 감싸진 문자열은 문자열 자체를 나타내며, 출력되지 않습니다. 작은따옴표(')로 감싸진 문자열도 문자열 자체를 나타내며, 출력되지 않습니다.  두 개의 정수인 4와 4를 더한 결과인 8입니다. + 연산자를 사용하여 두 정수를 더한 후 결과를 출력합니다.위의 설명을 참고하셔서 코드와 결과를 이해하시면 됩니다."
      ],
      "metadata": {
        "id": "E9bMVT90xYST"
      }
    }
  ]
}